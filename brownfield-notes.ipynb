{
 "cells": [
  {
   "cell_type": "code",
   "execution_count": 3,
   "metadata": {},
   "outputs": [],
   "source": [
    "import json\n",
    "import glob\n",
    "import re\n",
    "\n",
    "collection = {\"header\": {}}\n",
    "\n",
    "def add(h, category, key):\n",
    "    collection.setdefault(category, {})\n",
    "    if category in h:\n",
    "        collection[category].setdefault(h[category], []).append(key)\n",
    "\n",
    "p = re.compile(\"^.*/([\\d-]+)/(\\w+).json\")\n",
    "\n",
    "for path in glob.glob(\"collection/headers/*/*.json\"):\n",
    "    date, key = p.match(path).groups()\n",
    "\n",
    "    h = json.load(open(path))\n",
    "\n",
    "    for item in [\"request-headers\", \"response-headers\"]:\n",
    "        h.pop(item, None)\n",
    "\n",
    "    collection[\"header\"][key] = h\n",
    "\n",
    "    add(h, \"dataset\", key)\n",
    "    add(h, \"organisation\", key)\n",
    "    add(h, \"status\", key)\n",
    "    add(h, \"exception\", key)\n",
    "\n",
    "    if \"body\" in h:\n",
    "        add(h, \"body\", key)"
   ]
  },
  {
   "cell_type": "code",
   "execution_count": 7,
   "metadata": {},
   "outputs": [
    {
     "name": "stdout",
     "output_type": "stream",
     "text": [
      "200 474\n",
      "404 162\n",
      "403 4\n",
      "500 2\n"
     ]
    }
   ],
   "source": [
    "for status in collection[\"status\"]:\n",
    "   print(status, len(collection[\"status\"][status]))"
   ]
  }
 ],
 "metadata": {
  "kernelspec": {
   "display_name": "Python 3",
   "language": "python",
   "name": "python3"
  },
  "language_info": {
   "codemirror_mode": {
    "name": "ipython",
    "version": 3
   },
   "file_extension": ".py",
   "mimetype": "text/x-python",
   "name": "python",
   "nbconvert_exporter": "python",
   "pygments_lexer": "ipython3",
   "version": "3.7.3"
  }
 },
 "nbformat": 4,
 "nbformat_minor": 2
}
